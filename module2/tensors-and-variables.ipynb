{
 "cells": [
  {
   "cell_type": "code",
   "execution_count": 7,
   "metadata": {
    "collapsed": true
   },
   "outputs": [],
   "source": [
    "import tensorflow as tf"
   ]
  },
  {
   "cell_type": "markdown",
   "source": [
    "A tensor is an N-dimensional array of data\n",
    "\n",
    "Dimension = Rank"
   ],
   "metadata": {
    "collapsed": false,
    "pycharm": {
     "name": "#%% md\n"
    }
   }
  },
  {
   "cell_type": "code",
   "source": [
    "tf.constant(3) # Rank 0, aka Scalar, shape: ()\n",
    "tf.constant([3, 5, 7]) # Rank 1, Vector (3,)\n",
    "tf.constant([[3, 5, 7], [4, 6, 8]]) # Rank 2, MAtrix (2, 3)\n",
    "tf.constant([[[3, 5, 7], [4, 6, 8]], # Rank 3 3D Tensor (2,2,3)\n",
    "            [[1, 2, 3], [4, 5, 6]]])\n"
   ],
   "metadata": {
    "collapsed": false,
    "pycharm": {
     "name": "#%%\n"
    }
   },
   "execution_count": 8,
   "outputs": [
    {
     "data": {
      "text/plain": "<tf.Tensor: shape=(2, 2, 3), dtype=int32, numpy=\narray([[[3, 5, 7],\n        [4, 6, 8]],\n\n       [[1, 2, 3],\n        [4, 5, 6]]], dtype=int32)>"
     },
     "execution_count": 8,
     "metadata": {},
     "output_type": "execute_result"
    }
   ]
  },
  {
   "cell_type": "code",
   "execution_count": 10,
   "outputs": [],
   "source": [
    "# Can stack variables together to create nD tensors\n",
    "x1 = tf.constant([2,3,4]) # (3,)\n",
    "x2 = tf.stack([x1, x1]) # (2,3)\n",
    "x3 = tf.stack([x2, x2, x2, x2]) # (4,2,3)\n",
    "x4 = tf.stack([x3, x3]) # (2,4,2,3)"
   ],
   "metadata": {
    "collapsed": false,
    "pycharm": {
     "name": "#%%\n"
    }
   }
  },
  {
   "cell_type": "markdown",
   "source": [
    "`tf.constant` - produces constant tensors\n",
    "`tf.Variable` - produces tensors that can be modified"
   ],
   "metadata": {
    "collapsed": false
   }
  },
  {
   "cell_type": "code",
   "execution_count": 12,
   "outputs": [],
   "source": [
    "# Tensors can be sliced\n",
    "x = tf.constant([\n",
    "    [3, 5, 7],\n",
    "    [4, 6, 8]\n",
    "])\n",
    "\n",
    "# take ALL rows and only the first index column\n",
    "y = x[:, 1]"
   ],
   "metadata": {
    "collapsed": false,
    "pycharm": {
     "name": "#%%\n"
    }
   }
  },
  {
   "cell_type": "code",
   "execution_count": 13,
   "outputs": [],
   "source": [
    "# Tensors can be reshaped\n",
    "x = tf.constant([\n",
    "    [3, 5, 7],\n",
    "    [4, 6, 8]\n",
    "])\n",
    "\n",
    "# reads input row by row and puts numbers in the output tensor\n",
    "y = tf.reshape(x, [3, 2])"
   ],
   "metadata": {
    "collapsed": false,
    "pycharm": {
     "name": "#%%\n"
    }
   }
  },
  {
   "cell_type": "markdown",
   "source": [
    "Variable constructor requires an initial value for variable which can be a tensor of any shape and type.\n",
    "Initial value defines a shape and type for variable.\n",
    "Type and shape of variable are fixed. Values could be changed using `.assign` call.\n",
    "\n",
    "`tf.Variable` will typically hold model weights that need to be updated in a training loop"
   ],
   "metadata": {
    "collapsed": false
   }
  },
  {
   "cell_type": "code",
   "execution_count": 19,
   "outputs": [
    {
     "data": {
      "text/plain": "<tf.Tensor: shape=(2, 2), dtype=float32, numpy=\narray([[3., 4.],\n       [6., 8.]], dtype=float32)>"
     },
     "execution_count": 19,
     "metadata": {},
     "output_type": "execute_result"
    }
   ],
   "source": [
    "# x <- 2\n",
    "x = tf.Variable(2.0, dtype=tf.float32, name='my_variable')\n",
    "# x <- 45.8\n",
    "x.assign(45.8)\n",
    "# x <- x + 4\n",
    "x.assign_add(4)\n",
    "# x <- x - 3\n",
    "x.assign_sub(3)\n",
    "\n",
    "# w * x\n",
    "w = tf.Variable([\n",
    "    [1.],\n",
    "    [2.]\n",
    "])\n",
    "x = tf.constant([\n",
    "    [3., 4.]\n",
    "])\n",
    "tf.matmul(w, x)"
   ],
   "metadata": {
    "collapsed": false,
    "pycharm": {
     "name": "#%%\n"
    }
   }
  },
  {
   "cell_type": "markdown",
   "source": [
    "TensorFlow can compute any derivative of a function with respect to any parameter.\n",
    "- The computation is recorded with `GradientTape`\n",
    "- The function is expressed with `TensorFlow operations only!`"
   ],
   "metadata": {
    "collapsed": false
   }
  },
  {
   "cell_type": "code",
   "execution_count": null,
   "outputs": [],
   "source": [],
   "metadata": {
    "collapsed": false,
    "pycharm": {
     "name": "#%%\n"
    }
   }
  },
  {
   "cell_type": "markdown",
   "source": [
    "# Computing loss gradient\n",
    "GradientTape records operations for Automatic Differentiation\n",
    "\n",
    "```python\n",
    "def compute_gradients(X, Y, w0, w1):\n",
    "    with tf.GradientTape() as tape: # record the computation with GradientTape when it is executed (not when it's defined!)\n",
    "        loss = loss_mse(X, Y, w0, w1) # Specify the function (loss) as well as the parameters you want to take to the gradient with respect to ([w0, w1])\n",
    "    return tape.gradient(loss, [w0, w1])\n",
    "\n",
    "w0 = tf.Variable(0.0)\n",
    "w1 = tf.Variable(0.0)\n",
    "\n",
    "dw0, dw1 = compute_gradients(X, Y, w0, w1)\n",
    "```"
   ],
   "metadata": {
    "collapsed": false
   }
  }
 ],
 "metadata": {
  "kernelspec": {
   "display_name": "Python 3",
   "language": "python",
   "name": "python3"
  },
  "language_info": {
   "codemirror_mode": {
    "name": "ipython",
    "version": 2
   },
   "file_extension": ".py",
   "mimetype": "text/x-python",
   "name": "python",
   "nbconvert_exporter": "python",
   "pygments_lexer": "ipython2",
   "version": "2.7.6"
  }
 },
 "nbformat": 4,
 "nbformat_minor": 0
}