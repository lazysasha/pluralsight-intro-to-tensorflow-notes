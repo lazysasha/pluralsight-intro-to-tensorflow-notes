{
 "cells": [
  {
   "cell_type": "markdown",
   "metadata": {
    "collapsed": true,
    "pycharm": {
     "name": "#%% md\n"
    }
   },
   "source": [
    "# Feature columns bridge the gap between columns in a CSV file to the features used to train a model"
   ]
  },
  {
   "cell_type": "code",
   "source": [
    "import tensorflow as tf\n",
    "import numpy as np\n"
   ],
   "metadata": {
    "collapsed": false,
    "pycharm": {
     "name": "#%%\n"
    }
   },
   "execution_count": 2,
   "outputs": []
  },
  {
   "cell_type": "code",
   "execution_count": null,
   "outputs": [],
   "source": [
    "# Under the hood: Feature columns take care of packing the inputs into the input vector of the model\n",
    "featcols = [\n",
    "    tf.feature_column.numeric_column(\"sq_footage\"),\n",
    "    tf.feature_column.categorical_column_with_vocabulary_list(\"type\", [\"house\", \"apt\"]) # perform \"one-hot\" encoding\n",
    "    # \"house\" -> 1, 0\n",
    "    # \"apt\" -> 0, 1\n",
    "]"
   ],
   "metadata": {
    "collapsed": false,
    "pycharm": {
     "name": "#%%\n"
    }
   }
  },
  {
   "cell_type": "markdown",
   "source": [
    "# `fc.bucketized_column` splits a numeric feature into categories based on numeric ranges"
   ],
   "metadata": {
    "collapsed": false
   }
  },
  {
   "cell_type": "code",
   "execution_count": 5,
   "outputs": [
    {
     "ename": "TypeError",
     "evalue": "bucketized_column() missing 1 required positional argument: 'boundaries'",
     "output_type": "error",
     "traceback": [
      "\u001B[0;31m---------------------------------------------------------------------------\u001B[0m",
      "\u001B[0;31mTypeError\u001B[0m                                 Traceback (most recent call last)",
      "\u001B[0;32m<ipython-input-5-7c45e7cbc0f6>\u001B[0m in \u001B[0;36m<module>\u001B[0;34m\u001B[0m\n\u001B[1;32m     11\u001B[0m )\n\u001B[1;32m     12\u001B[0m fc_bucketized_plon = fc.bucketized_column(\n\u001B[0;32m---> 13\u001B[0;31m     \u001B[0msource_column\u001B[0m\u001B[0;34m=\u001B[0m\u001B[0mfc\u001B[0m\u001B[0;34m.\u001B[0m\u001B[0mbucketized_column\u001B[0m\u001B[0;34m(\u001B[0m\u001B[0;34m\"pickup_latitude\"\u001B[0m\u001B[0;34m)\u001B[0m\u001B[0;34m,\u001B[0m\u001B[0;34m\u001B[0m\u001B[0;34m\u001B[0m\u001B[0m\n\u001B[0m\u001B[1;32m     14\u001B[0m     \u001B[0mboundaries\u001B[0m\u001B[0;34m=\u001B[0m\u001B[0mlatbuckets\u001B[0m\u001B[0;34m\u001B[0m\u001B[0;34m\u001B[0m\u001B[0m\n\u001B[1;32m     15\u001B[0m )\n",
      "\u001B[0;31mTypeError\u001B[0m: bucketized_column() missing 1 required positional argument: 'boundaries'"
     ]
    }
   ],
   "source": [
    "NBUCKETS = 16\n",
    "# setup numeric ranges\n",
    "latbuckets = np.linspace(start=38.0, stop=42.0, num=NBUCKETS).tolist()\n",
    "lonbuckets = np.linspace(start=-76.0, stop=-72.0, num=NBUCKETS).tolist()\n",
    "\n",
    "fc = tf.feature_column\n",
    "# create bucketized columns for pickup latitude and pickup longitude\n",
    "fc_bucketized_plat = fc.bucketized_column(\n",
    "    source_column=fc.numeric_column(\"pickup_longitude\"),\n",
    "    boundaries=lonbuckets\n",
    ")\n",
    "fc_bucketized_plon = fc.bucketized_column(\n",
    "    source_column=fc.bucketized_column(\"pickup_latitude\"),\n",
    "    boundaries=latbuckets\n",
    ")"
   ],
   "metadata": {
    "collapsed": false,
    "pycharm": {
     "name": "#%%\n"
    }
   }
  },
  {
   "cell_type": "markdown",
   "source": [
    "# Representing feature columns as sparse vectors"
   ],
   "metadata": {
    "collapsed": false,
    "pycharm": {
     "name": "#%% md\n"
    }
   }
  },
  {
   "cell_type": "code",
   "source": [
    "# if you know the keys beforehand:\n",
    "tf.feature_column.categorical_column_with_vocabulary_list('zipcode', vocabulary_list=['12345', '45678', '78900'])\n",
    "\n",
    "# if your data is already indexed, i.e. has integers in [0-N):\n",
    "tf.feature_column.categorical_column_with_identity('schoolsRatings', num_buckets=2)\n",
    "\n",
    "# if you do not have a vocabulary of all possible values:\n",
    "tf.feature_column.categorical_column_with_hash_bucket('nearStoreID', hash_bucket_size=500)"
   ],
   "metadata": {
    "collapsed": false,
    "pycharm": {
     "name": "#%%\n"
    }
   },
   "execution_count": 4,
   "outputs": [
    {
     "data": {
      "text/plain": "HashedCategoricalColumn(key='nearStoreID', hash_bucket_size=500, dtype=tf.string)"
     },
     "execution_count": 4,
     "metadata": {},
     "output_type": "execute_result"
    }
   ]
  },
  {
   "cell_type": "markdown",
   "source": [
    "`fc.embedding_column` represents data as a lower-dimensional, dense vector inm which each cell contains a number, not just 0 or 1\n",
    "```jupyterpython\n",
    "fc_ploc = fc.embedding_column(categorical_column=fc_crossed_ploc, dimension=3)\n",
    "```"
   ],
   "metadata": {
    "collapsed": false
   }
  }
 ],
 "metadata": {
  "kernelspec": {
   "display_name": "Python 3",
   "language": "python",
   "name": "python3"
  },
  "language_info": {
   "codemirror_mode": {
    "name": "ipython",
    "version": 2
   },
   "file_extension": ".py",
   "mimetype": "text/x-python",
   "name": "python",
   "nbconvert_exporter": "python",
   "pygments_lexer": "ipython2",
   "version": "2.7.6"
  }
 },
 "nbformat": 4,
 "nbformat_minor": 0
}