{
 "cells": [
  {
   "cell_type": "code",
   "execution_count": 1,
   "metadata": {
    "collapsed": true
   },
   "outputs": [],
   "source": [
    "import tensorflow as tf;"
   ]
  },
  {
   "cell_type": "code",
   "execution_count": 3,
   "outputs": [],
   "source": [
    "# Create dataset from in-memory tensors\n",
    "def create_dataset_from_memory(X, Y, epochs, batch_size):\n",
    "    dataset = tf.data.Dataset.from_tensor_slices((X, Y)) # dataset is made of slices of (X,Y) along the 1st axis\n",
    "    dataset = dataset.repeat(epochs).batch(batch_size, drop_remainder=True)\n",
    "    return dataset"
   ],
   "metadata": {
    "collapsed": false,
    "pycharm": {
     "name": "#%%\n"
    }
   }
  },
  {
   "cell_type": "code",
   "execution_count": 4,
   "outputs": [],
   "source": [
    "# Use from_tensors() or from_tensor_slices()\n",
    "t = tf.constant([[4, 2], [5, 3]])\n",
    "ds_from_tensors = tf.data.Dataset.from_tensors(t) # [[4, 2], [5, 3]]\n",
    "ds_from_slices = tf.data.Dataset.from_tensor_slices(t) # [4, 2], [5, 3]\n",
    "\n"
   ],
   "metadata": {
    "collapsed": false,
    "pycharm": {
     "name": "#%%\n"
    }
   }
  },
  {
   "cell_type": "code",
   "execution_count": null,
   "outputs": [],
   "source": [
    "# Read one CSV file using TextLineDataset\n",
    "def parse_row(records):\n",
    "    cols = tf.io.decode_csv(records, record_defaults=[[0], ['house'], [0]])\n",
    "    features = {'sq_footage': cols[0], 'type': cols[1]}\n",
    "    label = cols[2]\n",
    "    return features, label\n",
    "\n",
    "def create_dataset_from_csv(csv_file_path):\n",
    "    dataset = tf.data.TextLineDataset(csv_file_path)\n",
    "    dataset = dataset.map(parse_row)\n",
    "    dataset = dataset.shuffle(1000).repeat(15).batch(128)\n",
    "    return dataset"
   ],
   "metadata": {
    "collapsed": false,
    "pycharm": {
     "name": "#%%\n"
    }
   }
  },
  {
   "cell_type": "code",
   "execution_count": null,
   "outputs": [],
   "source": [
    "# Read a set of sharded CSV files using TextLineDataset\n",
    "def create_dataset_from_sharded_csv(path):\n",
    "    dataset = tf.data.Dataset.list_files(path)\\\n",
    "        .flat_map(tf.data.TextLineDataset) \\\n",
    "        .map(parse_row)\n",
    "    dataset = dataset.shuffle(1000).repeat(15).batch(128)\n",
    "    return dataset\n"
   ],
   "metadata": {
    "collapsed": false,
    "pycharm": {
     "name": "#%%\n"
    }
   }
  }
 ],
 "metadata": {
  "kernelspec": {
   "display_name": "Python 3",
   "language": "python",
   "name": "python3"
  },
  "language_info": {
   "codemirror_mode": {
    "name": "ipython",
    "version": 2
   },
   "file_extension": ".py",
   "mimetype": "text/x-python",
   "name": "python",
   "nbconvert_exporter": "python",
   "pygments_lexer": "ipython2",
   "version": "2.7.6"
  }
 },
 "nbformat": 4,
 "nbformat_minor": 0
}